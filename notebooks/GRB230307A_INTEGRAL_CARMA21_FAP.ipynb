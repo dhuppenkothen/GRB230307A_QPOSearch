{
 "cells": [
  {
   "cell_type": "markdown",
   "id": "d21eff5c",
   "metadata": {},
   "source": [
    "# False Alarm Probability for CARMA(2,1) Process, INTEGRAL Data"
   ]
  },
  {
   "cell_type": "code",
   "execution_count": 1,
   "id": "ab6f8634",
   "metadata": {},
   "outputs": [
    {
     "name": "stderr",
     "output_type": "stream",
     "text": [
      "INFO[2023-10-24 09:50:52,807]: Unable to initialize backend 'cuda': module 'jaxlib.xla_extension' has no attribute 'GpuAllocatorConfig'\n",
      "WARNING: All log messages before absl::InitializeLog() is called are written to STDERR\n",
      "I0000 00:00:1698133852.807368       1 tfrt_cpu_pjrt_client.cc:349] TfrtCpuClient created.\n",
      "INFO[2023-10-24 09:50:52,808]: Unable to initialize backend 'rocm': module 'jaxlib.xla_extension' has no attribute 'GpuAllocatorConfig'\n",
      "INFO[2023-10-24 09:50:52,816]: Unable to initialize backend 'tpu': INTERNAL: Failed to open libtpu.so: dlopen(libtpu.so, 0x0001): tried: 'libtpu.so' (no such file), '/System/Volumes/Preboot/Cryptexes/OSlibtpu.so' (no such file), '/opt/miniconda3/envs/grbsearch/bin/../lib/libtpu.so' (no such file), '/usr/lib/libtpu.so' (no such file, not in dyld cache), 'libtpu.so' (no such file), '/usr/local/lib/libtpu.so' (no such file), '/usr/lib/libtpu.so' (no such file, not in dyld cache)\n",
      "/Users/daniela/work/repositories/stingraysoftware/stingray/stingray/utils.py:35: UserWarning: pyfftw not installed. Using standard scipy fft\n",
      "  warnings.warn(\"pyfftw not installed. Using standard scipy fft\")\n"
     ]
    }
   ],
   "source": [
    "%matplotlib notebook\n",
    "import matplotlib.pyplot as plt\n",
    "import seaborn as sns\n",
    "\n",
    "sns.set_style(\"whitegrid\")\n",
    "\n",
    "import pickle\n",
    "import numpy as np\n",
    "import scipy.io\n",
    "\n",
    "# Need both Jax and Tensorflow Probability \n",
    "import jax\n",
    "# Important to enable 64-bit precision\n",
    "jax.config.update(\"jax_enable_x64\", True)\n",
    "import jax.numpy as jnp\n",
    "from jax import random\n",
    "import tensorflow_probability.substrates.jax as tfp\n",
    "\n",
    "# TinyGP for Gaussian Processes, JaxNS for sampling\n",
    "from tinygp import GaussianProcess, kernels\n",
    "from tinygp.kernels.quasisep import CARMA\n",
    "\n",
    "from jaxns.utils import resample\n",
    "\n",
    "#stingray imports\n",
    "import stingray\n",
    "from stingray import Lightcurve, Powerspectrum\n",
    "from stingray.modeling.gpmodeling import get_kernel, get_mean\n",
    "from stingray.modeling.gpmodeling import get_prior, get_log_likelihood, get_gp_params\n",
    "\n",
    "# suppress warnings\n",
    "import warnings\n",
    "warnings.filterwarnings(\"ignore\")\n",
    "\n",
    "# abbreviations for tensorflow distributions + bijectors\n",
    "tfpd = tfp.distributions\n",
    "tfpb = tfp.bijectors\n",
    "\n",
    "import numpyro\n",
    "import numpyro.distributions as dist\n",
    "from numpyro.infer import MCMC, NUTS\n",
    "from numpyro.contrib.nested_sampling import NestedSampler\n",
    "\n",
    "import arviz as az"
   ]
  },
  {
   "cell_type": "markdown",
   "id": "01698898",
   "metadata": {},
   "source": [
    "Let's load the real data:"
   ]
  },
  {
   "cell_type": "code",
   "execution_count": 2,
   "id": "3a08ea54",
   "metadata": {},
   "outputs": [],
   "source": [
    "def load_integral_data(fpath):\n",
    "    \"\"\"\n",
    "    Load the Integral data from \n",
    "    the IDL .sav file. The file has two columns: \n",
    "    `barytime` and `counts`\n",
    "\n",
    "    Parameters\n",
    "    ----------\n",
    "    fpath : str\n",
    "        The path to the file with the data\n",
    "\n",
    "    Returns\n",
    "    -------\n",
    "    lc : stingray.Lightcurve object\n",
    "        The barycentred light curve\n",
    "    \"\"\"\n",
    "    data = scipy.io.readsav(fpath)\n",
    "    barytime = np.array(data[\"barytime\"], dtype=float)\n",
    "    counts = np.array(data[\"counts\"], dtype=float)\n",
    "    mean_bkg = np.mean(counts[-100:])\n",
    "\n",
    "    lc = Lightcurve(barytime, counts-mean_bkg)\n",
    "    minind = lc.time.searchsorted(0.0)\n",
    "    maxind = lc.time.searchsorted(60.0)\n",
    "    lc = lc.truncate(start=minind, stop=maxind, method=\"index\")\n",
    "\n",
    "    return lc\n"
   ]
  },
  {
   "cell_type": "code",
   "execution_count": 4,
   "id": "c72fe21e",
   "metadata": {},
   "outputs": [
    {
     "name": "stderr",
     "output_type": "stream",
     "text": [
      "INFO[2023-10-24 09:51:31,233]: Checking if light curve is well behaved. This can take time, so if you are sure it is already sorted, specify skip_checks=True at light curve creation.\n",
      "INFO[2023-10-24 09:51:31,340]: Checking if light curve is sorted.\n",
      "INFO[2023-10-24 09:51:31,622]: Computing the bin time ``dt``. This can take time. If you know the bin time, please specify it at light curve creation\n"
     ]
    }
   ],
   "source": [
    "# load Integral data\n",
    "datadir = \"/Users/daniela/work/data/grb230307A/\"\n",
    "fpath = datadir + \"acs_lc_bary.sav\"\n",
    "lc = load_integral_data(fpath)\n"
   ]
  },
  {
   "cell_type": "markdown",
   "id": "bb9a3f1e",
   "metadata": {},
   "source": [
    "Let's load the posterior:"
   ]
  },
  {
   "cell_type": "code",
   "execution_count": 25,
   "id": "6ab09c06",
   "metadata": {},
   "outputs": [],
   "source": [
    "def carma21_integral(t, y=None):\n",
    "\n",
    "    mean_bkg = np.mean(y[-100:])\n",
    "    # mean parameters\n",
    "    log_amp = numpyro.sample('log_amp', dist.Uniform(9, 12.0))\n",
    "    t0 = numpyro.sample(\"t0\", dist.Uniform(0.0, 10))\n",
    "    log_sig1 = numpyro.sample(\"log_sig1\", dist.Uniform(-5, 1.5))\n",
    "    log_sig2 = numpyro.sample(\"log_sig2\", dist.Uniform(1, 4))\n",
    "    log_const = numpyro.sample(\"log_const\", dist.Normal(mean_bkg, mean_bkg/5))\n",
    "\n",
    "    params = [log_amp, t0, log_sig1,log_sig2, log_const]\n",
    "    \n",
    "    mean = skewgaussian(t, params)\n",
    "    \n",
    "    # kernel parameters\n",
    "    log_alpha1 = numpyro.sample(\"log_alpha1\", dist.Uniform(-10, 20))\n",
    "    log_alpha2 = numpyro.sample(\"log_alpha2\", dist.Uniform(-10, 20))\n",
    "    \n",
    "    log_beta = numpyro.sample(\"log_beta\", dist.Uniform(-10, 20))\n",
    "        \n",
    "    kernel = CARMA.init(alpha=[jnp.exp(log_alpha1), jnp.exp(log_alpha2)], \n",
    "                        beta=[jnp.exp(log_beta)])\n",
    "    \n",
    "    gp = GaussianProcess(kernel, t, diag=y, mean_value=mean)\n",
    "        \n",
    "    numpyro.sample(\"gp\", gp.numpyro_dist(), obs=y)\n",
    "\n",
    "    if y is not None:\n",
    "        numpyro.deterministic(\"pred\", gp.condition(y, t).gp.loc)\n",
    "\n",
    "def sample_carma21(lc):\n",
    "    \"\"\"\n",
    "    Set up a CARMA(2,1) + mean model and sample from \n",
    "    the posterior for a given Lightcurve.\n",
    "    \n",
    "    Parameters\n",
    "    ----------\n",
    "    lc : stingray.Lightcurve object\n",
    "        The light curve to model with a DRW\n",
    "        \n",
    "    Returns\n",
    "    -------\n",
    "    gpresult_sim : stingray.modeling.GPResult object\n",
    "        The object with the sampling results\n",
    "    \"\"\"\n",
    "    \n",
    "    ns = NestedSampler(carma21_integral)\n",
    "    ns.run(random.PRNGKey(200), lc.time, y=lc.counts)   \n",
    "    \n",
    "    return ns\n",
    "\n",
    "def simulate_grb(pars_log, time):\n",
    "    \"\"\"\n",
    "    Simulate a GRB light curve given a set of parameters.\n",
    "    \n",
    "    Parameters\n",
    "    ----------\n",
    "    pars_log : dict\n",
    "        A dictionary with the parameters for the \n",
    "        data generation process\n",
    "        \n",
    "    time : numpy.ndarray\n",
    "        An array of time stamps\n",
    "        \n",
    "    Returns\n",
    "    -------\n",
    "    lcsim : stingray.Lightcurve\n",
    "        A simulated light curve\n",
    "    \"\"\"\n",
    "    dt = time[1]-time[0]\n",
    "    \n",
    "    p = 2\n",
    "    q = 1\n",
    "    mean_var_names = [\"log_amp\", \"t0\", \"log_sig1\",\n",
    "                    'log_sig2', \"log_const\"]\n",
    "\n",
    "    mean_params = [pars_log[\"log_amp\"],\n",
    "                   pars_log[\"t0\"],\n",
    "                   pars_log[\"log_sig1\"],\n",
    "                   pars_log[\"log_sig2\"],\n",
    "                   pars_log[\"log_const\"]]\n",
    "\n",
    "    alpha = [jnp.exp(pars_log[\"log_alpha1\"]), jnp.exp(pars_log[\"log_alpha2\"])]\n",
    "    beta = [jnp.exp(pars_log[\"log_beta\"])]\n",
    "\n",
    "    mean_val = skewgaussian(time, mean_params)\n",
    "    kernel = CARMA.init(alpha=alpha, beta=beta)\n",
    "\n",
    "    gp = GaussianProcess(kernel, time, diag=0.01)\n",
    "\n",
    "    key = random.PRNGKey(np.random.randint(0, 1000))\n",
    "    sample = gp.sample(key) + mean_val\n",
    "    \n",
    "    sample = sample.at[sample <= 0].set(1e-10)\n",
    "    sample = np.random.poisson(sample)\n",
    "    lcsim = Lightcurve(time, sample, dt=dt, skip_checks=True)\n",
    "    \n",
    "    return lcsim\n",
    "\n",
    "def skewgaussian(t, params):\n",
    "    #parameter_names = (\"logA\", \"t0\", \"logsig1\", \"logsig2\", \"logconst\")\n",
    "    logA = params[0]\n",
    "    t0 = params[1]\n",
    "    logsig1 = params[2]\n",
    "    logsig2 = params[3]\n",
    "    logconst = params[4]\n",
    "\n",
    "    y = jnp.exp(logA) * jnp.where(\n",
    "            t > t0,\n",
    "            jnp.exp(-((t - t0) ** 2) / (2 * (jnp.exp(logsig2)**2))),\n",
    "            jnp.exp(-((t - t0) ** 2) / (2 * (jnp.exp(logsig1)**2))),\n",
    "        )\n",
    "    return y + jnp.exp(logconst)\n"
   ]
  },
  {
   "cell_type": "code",
   "execution_count": 22,
   "id": "5ad1811f",
   "metadata": {},
   "outputs": [],
   "source": [
    "with open(datadir + \"integral_carma21_ns.pkl\", \"rb\") as f:\n",
    "    ns = pickle.load(f)\n",
    "\n",
    "samples, weights = ns.get_weighted_samples()\n",
    "\n",
    "all_params = list(samples.keys())\n",
    "\n",
    "all_params.remove(\"pred\")\n",
    "\n",
    "nsim = 100\n",
    "nsamples = samples[list(samples.keys())[0]].shape[0]\n",
    "\n",
    "idx_all = np.random.choice(np.arange(0, nsamples, 1, dtype=int), size=nsim, replace=False)\n",
    "\n",
    "#lcsim_all = []\n",
    "\n",
    "#carma21_logz_file = f\"{datadir}integral_sim_carma21_logz.txt\"\n",
    "#qpo_logz_file = f\"{datadir}integral_sim_carma21_qpo_logz.txt\"\n",
    "\n",
    "idx_all = [0]"
   ]
  },
  {
   "cell_type": "code",
   "execution_count": 23,
   "id": "4c55d230",
   "metadata": {},
   "outputs": [
    {
     "data": {
      "text/plain": [
       "['log_alpha1',\n",
       " 'log_alpha2',\n",
       " 'log_amp',\n",
       " 'log_beta',\n",
       " 'log_const',\n",
       " 'log_sig1',\n",
       " 'log_sig2',\n",
       " 't0']"
      ]
     },
     "execution_count": 23,
     "metadata": {},
     "output_type": "execute_result"
    }
   ],
   "source": [
    "all_params"
   ]
  },
  {
   "cell_type": "code",
   "execution_count": null,
   "id": "cec42ec5",
   "metadata": {},
   "outputs": [
    {
     "name": "stdout",
     "output_type": "stream",
     "text": [
      "I am on simulation 0\n",
      "Sampling the DRW ...\n"
     ]
    }
   ],
   "source": [
    "for i, idx in enumerate(idx_all):\n",
    "        print(f\"I am on simulation {i}\")\n",
    "        pars_log = dict((k, samples[k][idx]) for k in all_params)\n",
    "\n",
    "        #print(pars_log)\n",
    "        lcsim = simulate_grb(pars_log, lc.time)\n",
    "        \n",
    "        #np.savetxt(f\"{datadir}integral_lcsim{i}.dat\", np.array([lcsim.time, lcsim.counts]).T)\n",
    "        #lcsim_all.append(lcsim)\n",
    "        \n",
    "        print(\"Sampling the DRW ...\")\n",
    "        # sample the DRW\n",
    "        ns_rn = sample_carma21(lcsim)\n",
    "        \n",
    "        #with open(f\"{datadir}integral_carm21_res_sim{i}.pkl\", \"wb\") as f:\n",
    "        #    pickle.dump(ns_rn._results, f)\n",
    "            \n",
    "        #with open(carma21_logz_file, \"a\") as f:\n",
    "        #    logz_drw = f\"{ns_rn._results.log_Z_mean} \\t {ns_rn._results.log_Z_uncert} \\n\"\n",
    "        #    f.write(logz_drw)"
   ]
  },
  {
   "cell_type": "code",
   "execution_count": null,
   "id": "4fb7c84d",
   "metadata": {},
   "outputs": [],
   "source": []
  },
  {
   "cell_type": "code",
   "execution_count": null,
   "id": "58be9064",
   "metadata": {},
   "outputs": [],
   "source": []
  }
 ],
 "metadata": {
  "kernelspec": {
   "display_name": "Python 3 (ipykernel)",
   "language": "python",
   "name": "python3"
  },
  "language_info": {
   "codemirror_mode": {
    "name": "ipython",
    "version": 3
   },
   "file_extension": ".py",
   "mimetype": "text/x-python",
   "name": "python",
   "nbconvert_exporter": "python",
   "pygments_lexer": "ipython3",
   "version": "3.10.13"
  }
 },
 "nbformat": 4,
 "nbformat_minor": 5
}
